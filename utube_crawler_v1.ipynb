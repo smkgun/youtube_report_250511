{
 "cells": [
  {
   "cell_type": "code",
   "execution_count": 8,
   "id": "414476d4",
   "metadata": {},
   "outputs": [
    {
     "name": "stdout",
     "output_type": "stream",
     "text": [
      "\n",
      "📋 영상 수집 미리보기 (상위 5개):\n",
      "                                               title   channel  \\\n",
      "0                        민주당 이재명 대선 후보 전남 해남 방문 현장에서      이장TV   \n",
      "1                이재명 골목골목 경청투어[더불어민주당] 전남 강진군 사의재 방문     뉴스프리즘   \n",
      "2          🔴LIVE 이재명 사의재 방문 - 전남 강진군 / 25.5.11 / KNN  KNN NEWS   \n",
      "3  [🔴라이브를 켜라] 이재명, 전남 강진군 경청투어…'정약용 유배지' 사의재 방문 /...  채널A News   \n",
      "4  [생중계] '경청투어' 이재명 민주당 대선 후보, 전남 사의재 방문 (2025.05...     오마이TV   \n",
      "\n",
      "               pub_date                                          url  \n",
      "0  2025-05-11T05:31:51Z  https://www.youtube.com/watch?v=hfZ39muIL40  \n",
      "1  2025-05-11T05:14:03Z  https://www.youtube.com/watch?v=ILz2iRuw9hI  \n",
      "2  2025-05-11T05:06:30Z  https://www.youtube.com/watch?v=MoYv9m2pk2c  \n",
      "3  2025-05-11T03:56:16Z  https://www.youtube.com/watch?v=6S5td3jUGmk  \n",
      "4  2025-05-11T03:57:04Z  https://www.youtube.com/watch?v=vcYoF0eZDBY  \n",
      "\n",
      "✅ '이재명 전남 방문'에 대한 영상 50건 저장 완료 → youtube_metadata_이재명_전남_방문.csv\n"
     ]
    }
   ],
   "source": [
    "import os\n",
    "import pandas as pd\n",
    "from dotenv import load_dotenv\n",
    "from googleapiclient.discovery import build\n",
    "\n",
    "# ✅ 1. 환경변수 로드 (현재 경로의 .env 사용)\n",
    "load_dotenv(dotenv_path=r\"c:\\\\Users\\\\NOTE2\\\\조원C&I\\\\개인biz\\\\phytho code\\\\youtube analytics\\\\.env\")\n",
    "API_KEY = os.getenv('YOUTUBE_API_KEY')\n",
    "\n",
    "# ✅ 2. API 클라이언트 설정\n",
    "youtube = build('youtube', 'v3', developerKey=API_KEY)\n",
    "\n",
    "# ✅ 3. 영상 ID 검색 (검색어 기반)\n",
    "def get_video_ids_by_keyword(keyword, max_results=50):\n",
    "    request = youtube.search().list(\n",
    "        q=keyword,\n",
    "        part='id',\n",
    "        type='video',\n",
    "        maxResults=max_results,\n",
    "        order='date'\n",
    "    )\n",
    "    response = request.execute()\n",
    "    return [item['id']['videoId'] for item in response['items']]\n",
    "\n",
    "# ✅ 4. 영상 상세 정보 조회 (50개까지 batch 조회)\n",
    "def get_video_details(video_ids):\n",
    "    video_data = []\n",
    "    for i in range(0, len(video_ids), 50):\n",
    "        ids = video_ids[i:i+50]\n",
    "        request = youtube.videos().list(\n",
    "            part='snippet,statistics,contentDetails',\n",
    "            id=','.join(ids)\n",
    "        )\n",
    "        response = request.execute()\n",
    "        for item in response['items']:\n",
    "            stats = item.get('statistics', {})\n",
    "            snippet = item['snippet']\n",
    "            video_data.append({\n",
    "                'videoId': item['id'],\n",
    "                'title': snippet['title'],\n",
    "                'channel': snippet['channelTitle'],\n",
    "                'pub_date': snippet['publishedAt'],\n",
    "                'counts': stats.get('viewCount', '0'),\n",
    "                'likes_count': stats.get('likeCount', '0'),\n",
    "                'comment_count': stats.get('commentCount', '0'),\n",
    "                'url': f\"https://www.youtube.com/watch?v={item['id']}\"\n",
    "            })\n",
    "    return video_data\n",
    "\n",
    "# ✅ 5. 실행 및 저장\n",
    "if __name__ == '__main__':\n",
    "    keyword = \"이재명 전남 방문\"  # 여기에 분석할 키워드 입력\n",
    "    video_ids = get_video_ids_by_keyword(keyword, max_results=50)\n",
    "    video_details = get_video_details(video_ids)\n",
    "\n",
    "    df = pd.DataFrame(video_details)\n",
    "\n",
    "    # ✅ 미리보기 출력\n",
    "    print(\"\\n📋 영상 수집 미리보기 (상위 5개):\")\n",
    "    print(df[['title', 'channel', 'pub_date', 'url']].head(5))\n",
    "\n",
    "    output_file = f'youtube_metadata_{keyword}.csv'.replace(' ', '_')\n",
    "    df.to_csv(output_file, index=False, encoding='utf-8-sig')\n",
    "    \n",
    "    print(f\"\\n✅ '{keyword}'에 대한 영상 {len(df)}건 저장 완료 → {output_file}\")\n"
   ]
  },
  {
   "cell_type": "markdown",
   "id": "e2b483b3",
   "metadata": {},
   "source": []
  }
 ],
 "metadata": {
  "kernelspec": {
   "display_name": "Python 3",
   "language": "python",
   "name": "python3"
  },
  "language_info": {
   "codemirror_mode": {
    "name": "ipython",
    "version": 3
   },
   "file_extension": ".py",
   "mimetype": "text/x-python",
   "name": "python",
   "nbconvert_exporter": "python",
   "pygments_lexer": "ipython3",
   "version": "3.12.9"
  }
 },
 "nbformat": 4,
 "nbformat_minor": 5
}
