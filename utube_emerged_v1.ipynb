{
 "cells": [
  {
   "cell_type": "code",
   "execution_count": 6,
   "id": "9425075e",
   "metadata": {},
   "outputs": [
    {
     "name": "stdout",
     "output_type": "stream",
     "text": [
      "✅ 통합 CSV 저장 완료 → youtube_통합분석_이재명_전남_방문.csv\n"
     ]
    }
   ],
   "source": [
    "import pandas as pd\n",
    "from urllib.parse import urlparse, parse_qs\n",
    "\n",
    "# 경로\n",
    "meta_path = 'youtube_metadata_이재명_전남_방문.csv'\n",
    "comment_path = 'youtube_comments_이재명_전남_방문.csv'\n",
    "\n",
    "df_meta = pd.read_csv(meta_path)\n",
    "df_comm = pd.read_csv(comment_path)\n",
    "\n",
    "# 댓글에 videoId 없을 경우 생성\n",
    "if 'videoId' not in df_comm.columns:\n",
    "    def extract_video_id(url):\n",
    "        parsed = urlparse(url)\n",
    "        return parse_qs(parsed.query).get('v', [url.split(\"v=\")[-1]])[0]\n",
    "    df_comm['videoId'] = df_comm['url'].apply(extract_video_id)\n",
    "\n",
    "# 병합\n",
    "df_merged = pd.merge(df_comm, df_meta, how='left', on='videoId')\n",
    "\n",
    "# 컬럼 이름 정리\n",
    "df_merged = df_merged.rename(columns={\n",
    "    'title_x': 'title',\n",
    "    'channel_x': 'channel'\n",
    "})\n",
    "\n",
    "# 출력 순서 (존재하는 것만)\n",
    "columns_order = [\n",
    "    'videoId', 'title', 'channel', 'pub_date', 'counts', 'likes_count', 'comment_count', 'url', 'comment'\n",
    "]\n",
    "df_merged = df_merged[[col for col in columns_order if col in df_merged.columns]]\n",
    "\n",
    "# 저장\n",
    "output_file = 'youtube_통합분석_이재명_전남_방문.csv'\n",
    "df_merged.to_csv(output_file, index=False, encoding='utf-8-sig')\n",
    "print(f\"✅ 통합 CSV 저장 완료 → {output_file}\")\n"
   ]
  }
 ],
 "metadata": {
  "kernelspec": {
   "display_name": "Python 3",
   "language": "python",
   "name": "python3"
  },
  "language_info": {
   "codemirror_mode": {
    "name": "ipython",
    "version": 3
   },
   "file_extension": ".py",
   "mimetype": "text/x-python",
   "name": "python",
   "nbconvert_exporter": "python",
   "pygments_lexer": "ipython3",
   "version": "3.12.9"
  }
 },
 "nbformat": 4,
 "nbformat_minor": 5
}
