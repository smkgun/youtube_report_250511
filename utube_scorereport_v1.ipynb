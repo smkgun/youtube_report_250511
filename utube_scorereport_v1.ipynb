{
 "cells": [
  {
   "cell_type": "code",
   "execution_count": 1,
   "id": "8c6f8e23",
   "metadata": {},
   "outputs": [
    {
     "name": "stdout",
     "output_type": "stream",
     "text": [
      "✅ 유튜브 정량 분석 완료 → youtube_정량분석_요약.csv\n",
      "  분석 대상  영상 수  전체 댓글 수  평균 댓글 길이  평균 댓글 수(영상별)    평균 조회수  평균 좋아요 수  \\\n",
      "0   김문수    35      766     34.41         21.80  44798.63   1090.67   \n",
      "1   이재명    35      988     37.14         28.09  35405.97   2342.53   \n",
      "\n",
      "   평균 댓글 수(메타 기준)  \n",
      "0           40.19  \n",
      "1          111.06  \n"
     ]
    }
   ],
   "source": [
    "import pandas as pd\n",
    "from urllib.parse import urlparse, parse_qs\n",
    "\n",
    "# 🔧 분석용 함수 정의\n",
    "def quantify_youtube_metrics(df, label):\n",
    "    df = df.copy()\n",
    "    df['comment_len'] = df['comment'].astype(str).apply(len)\n",
    "    df['counts'] = pd.to_numeric(df['counts'], errors='coerce')\n",
    "    df['likes_count'] = pd.to_numeric(df['likes_count'], errors='coerce')\n",
    "    df['comment_count'] = pd.to_numeric(df['comment_count'], errors='coerce')\n",
    "\n",
    "    summary = {\n",
    "        '분석 대상': label,\n",
    "        '영상 수': df['videoId'].nunique(),\n",
    "        '전체 댓글 수': len(df),\n",
    "        '평균 댓글 길이': round(df['comment_len'].mean(), 2),\n",
    "        '평균 댓글 수(영상별)': round(df.groupby('videoId')['comment'].count().mean(), 2),\n",
    "        '평균 조회수': round(df.groupby('videoId')['counts'].first().mean(), 2),\n",
    "        '평균 좋아요 수': round(df.groupby('videoId')['likes_count'].first().mean(), 2),\n",
    "        '평균 댓글 수(메타 기준)': round(df.groupby('videoId')['comment_count'].first().mean(), 2)\n",
    "    }\n",
    "    return summary\n",
    "\n",
    "# 🔽 입력 파일 (경로 수정 가능)\n",
    "kim_file = 'youtube_통합분석_김문수_후보_등록.csv'\n",
    "lee_file = 'youtube_통합분석_이재명_전남_방문.csv'\n",
    "\n",
    "# 🔽 데이터 로딩\n",
    "df_kim = pd.read_csv(kim_file)\n",
    "df_lee = pd.read_csv(lee_file)\n",
    "\n",
    "# ✅ 정량 분석 실행\n",
    "summary_kim = quantify_youtube_metrics(df_kim, '김문수')\n",
    "summary_lee = quantify_youtube_metrics(df_lee, '이재명')\n",
    "\n",
    "df_summary = pd.DataFrame([summary_kim, summary_lee])\n",
    "\n",
    "# ✅ 저장\n",
    "df_summary.to_csv('youtube_정량분석_요약.csv', index=False, encoding='utf-8-sig')\n",
    "print(\"✅ 유튜브 정량 분석 완료 → youtube_정량분석_요약.csv\")\n",
    "print(df_summary)\n"
   ]
  }
 ],
 "metadata": {
  "kernelspec": {
   "display_name": "Python 3",
   "language": "python",
   "name": "python3"
  },
  "language_info": {
   "codemirror_mode": {
    "name": "ipython",
    "version": 3
   },
   "file_extension": ".py",
   "mimetype": "text/x-python",
   "name": "python",
   "nbconvert_exporter": "python",
   "pygments_lexer": "ipython3",
   "version": "3.12.9"
  }
 },
 "nbformat": 4,
 "nbformat_minor": 5
}
